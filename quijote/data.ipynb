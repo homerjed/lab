{
 "cells": [
  {
   "cell_type": "code",
   "execution_count": 1,
   "metadata": {},
   "outputs": [],
   "source": [
    "import os\n",
    "import numpy as np "
   ]
  },
  {
   "cell_type": "code",
   "execution_count": 6,
   "metadata": {},
   "outputs": [],
   "source": [
    "X = np.load(\"data/density_fields_x256.npy\").reshape(-1, 64, 4, 64, 4).mean(axis=(2, 4))\n",
    "X.shape\n",
    "np.save(\"data/density_fields_x64.npy\", X)"
   ]
  },
  {
   "cell_type": "code",
   "execution_count": 12,
   "metadata": {},
   "outputs": [],
   "source": [
    "X = np.load(\"/Users/Jed.Homer/phd/teaching/sbi_ml_lab/quijote/data/density_fields_fiducials_x64.npy\")\n",
    "C = np.cov(X.reshape(15_000, -1), rowvar=False)\n",
    "np.save(\"data/covariance_x64.npy\", C)"
   ]
  },
  {
   "cell_type": "code",
   "execution_count": 9,
   "metadata": {},
   "outputs": [],
   "source": [
    "data_dir = \"data/\"\n",
    "mean = np.load(os.path.join(data_dir, \"density_fields_fiducials_x64.npy\")).mean(axis=0)\n",
    "covariance = np.load(os.path.join(data_dir, \"covariance_x64.npy\"))\n",
    "\n",
    "data = np.random.multivariate_normal(mean.flatten(), covariance)"
   ]
  }
 ],
 "metadata": {
  "kernelspec": {
   "display_name": ".venv",
   "language": "python",
   "name": "python3"
  },
  "language_info": {
   "codemirror_mode": {
    "name": "ipython",
    "version": 3
   },
   "file_extension": ".py",
   "mimetype": "text/x-python",
   "name": "python",
   "nbconvert_exporter": "python",
   "pygments_lexer": "ipython3",
   "version": "3.9.13"
  }
 },
 "nbformat": 4,
 "nbformat_minor": 2
}
